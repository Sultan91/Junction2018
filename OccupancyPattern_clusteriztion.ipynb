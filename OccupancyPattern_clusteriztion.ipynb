{
 "cells": [
  {
   "cell_type": "code",
   "execution_count": 11,
   "metadata": {},
   "outputs": [],
   "source": [
    "import pandas as pd"
   ]
  },
  {
   "cell_type": "code",
   "execution_count": 171,
   "metadata": {},
   "outputs": [],
   "source": [
    "df = pd.read_csv(\"helvar_office_occupancy_change_oct_nov_2018.csv\")"
   ]
  },
  {
   "cell_type": "code",
   "execution_count": 172,
   "metadata": {},
   "outputs": [
    {
     "data": {
      "text/html": [
       "<div>\n",
       "<style scoped>\n",
       "    .dataframe tbody tr th:only-of-type {\n",
       "        vertical-align: middle;\n",
       "    }\n",
       "\n",
       "    .dataframe tbody tr th {\n",
       "        vertical-align: top;\n",
       "    }\n",
       "\n",
       "    .dataframe thead th {\n",
       "        text-align: right;\n",
       "    }\n",
       "</style>\n",
       "<table border=\"1\" class=\"dataframe\">\n",
       "  <thead>\n",
       "    <tr style=\"text-align: right;\">\n",
       "      <th></th>\n",
       "      <th>id</th>\n",
       "      <th>siteId</th>\n",
       "      <th>deviceId</th>\n",
       "      <th>timestamp</th>\n",
       "      <th>type</th>\n",
       "    </tr>\n",
       "  </thead>\n",
       "  <tbody>\n",
       "    <tr>\n",
       "      <th>0</th>\n",
       "      <td>519478</td>\n",
       "      <td>site_exp</td>\n",
       "      <td>01673ca0-2cf3-411b-83b6-353e7dde1112</td>\n",
       "      <td>2018-11-23 16:20:47</td>\n",
       "      <td>UNOCCUPIED</td>\n",
       "    </tr>\n",
       "    <tr>\n",
       "      <th>1</th>\n",
       "      <td>519470</td>\n",
       "      <td>site_exp</td>\n",
       "      <td>01673ca0-2cf3-411b-83b6-353e7dde1112</td>\n",
       "      <td>2018-11-23 16:18:23</td>\n",
       "      <td>OCCUPIED</td>\n",
       "    </tr>\n",
       "    <tr>\n",
       "      <th>2</th>\n",
       "      <td>519469</td>\n",
       "      <td>site_exp</td>\n",
       "      <td>01673ca0-2cf3-411b-83b6-353e7dde1112</td>\n",
       "      <td>2018-11-23 16:18:16</td>\n",
       "      <td>UNOCCUPIED</td>\n",
       "    </tr>\n",
       "    <tr>\n",
       "      <th>3</th>\n",
       "      <td>519435</td>\n",
       "      <td>site_exp</td>\n",
       "      <td>01673ca0-2cf3-411b-83b6-353e7dde1112</td>\n",
       "      <td>2018-11-23 16:16:38</td>\n",
       "      <td>OCCUPIED</td>\n",
       "    </tr>\n",
       "    <tr>\n",
       "      <th>4</th>\n",
       "      <td>519451</td>\n",
       "      <td>site_exp</td>\n",
       "      <td>01673ca0-2cf3-411b-83b6-353e7dde1112</td>\n",
       "      <td>2018-11-23 16:16:38</td>\n",
       "      <td>OCCUPIED</td>\n",
       "    </tr>\n",
       "  </tbody>\n",
       "</table>\n",
       "</div>"
      ],
      "text/plain": [
       "       id    siteId                              deviceId  \\\n",
       "0  519478  site_exp  01673ca0-2cf3-411b-83b6-353e7dde1112   \n",
       "1  519470  site_exp  01673ca0-2cf3-411b-83b6-353e7dde1112   \n",
       "2  519469  site_exp  01673ca0-2cf3-411b-83b6-353e7dde1112   \n",
       "3  519435  site_exp  01673ca0-2cf3-411b-83b6-353e7dde1112   \n",
       "4  519451  site_exp  01673ca0-2cf3-411b-83b6-353e7dde1112   \n",
       "\n",
       "             timestamp        type  \n",
       "0  2018-11-23 16:20:47  UNOCCUPIED  \n",
       "1  2018-11-23 16:18:23    OCCUPIED  \n",
       "2  2018-11-23 16:18:16  UNOCCUPIED  \n",
       "3  2018-11-23 16:16:38    OCCUPIED  \n",
       "4  2018-11-23 16:16:38    OCCUPIED  "
      ]
     },
     "execution_count": 172,
     "metadata": {},
     "output_type": "execute_result"
    }
   ],
   "source": [
    "df.head()"
   ]
  },
  {
   "cell_type": "code",
   "execution_count": 173,
   "metadata": {
    "scrolled": true
   },
   "outputs": [
    {
     "data": {
      "text/plain": [
       "['01673ca0-2cf3-411b-83b6-353e7dde1112',\n",
       " '02cfbf0f-683d-466b-aee1-f104fc340bb7',\n",
       " '08b315f6-0771-446c-bce3-324ec015f0e3',\n",
       " '09b5b3d5-9835-40c0-b832-ce3de953ec1c',\n",
       " '0b346eeb-680d-4e08-9f41-4f78ceec34e5',\n",
       " '0c91dd5e-7ca5-4cf5-bd7f-eb53656c4d4b',\n",
       " '0dbffb5d-1b26-4c27-970b-1b4f307666e7',\n",
       " '1930b6dd-817a-459c-a7ad-f742fe3ab11e',\n",
       " '1f9020f8-9338-49a8-af02-303ccbf8574e',\n",
       " '24338ee7-d9ab-44dd-afc8-15cec52a3480',\n",
       " '281b1c1a-70b5-4bd9-a3a0-2dfcd96581bb',\n",
       " '34f509c5-b3b9-4948-8cf1-204bc68050d2',\n",
       " '378efa2a-0fe4-4aae-a573-913988352c1e',\n",
       " '388e2470-6ba4-4b53-be4b-d7078b0460b1',\n",
       " '3ecffd90-615d-4dc2-8c57-59fc5bd7d6c3',\n",
       " '40eba976-a328-47ba-900b-500f53a52f87',\n",
       " '439807f9-851e-4218-8e3a-1fe31dbd0ebc',\n",
       " '44774441-7715-483d-8f34-33b4d785613a',\n",
       " '44f9582b-277e-40dc-988c-5bc099edabcf',\n",
       " '487f48f5-0e12-486a-be73-aebb74056012',\n",
       " '4fee747f-7416-436a-81f8-882e6f67a44c',\n",
       " '56e74513-9d97-462c-ad46-de025702f0bd',\n",
       " '5b8cf6de-66ce-4bba-ac88-a6c37ba58d3c',\n",
       " '5ba75b43-4b31-41e9-8244-a3c02c232053',\n",
       " '5c4fe43f-a7bf-4bc5-89a4-1bcee74de443',\n",
       " '5f68b777-f587-4e01-9d82-2642631d6a68',\n",
       " '6a0a1931-65e0-4938-8a8a-90c6d02c5a1b',\n",
       " '6eb9d396-9662-4fe4-ba84-06c8776304fe',\n",
       " '74b897b3-2aa9-47c8-ad95-6c627f225457',\n",
       " '7b48dc2f-16e3-4221-bb8f-b6f7c0eb9c1a',\n",
       " '8028874c-f71d-4887-a71f-ee6143b2d25d',\n",
       " '812da778-b6b8-4ea3-835a-ae04ee4a938c',\n",
       " '82e4e116-4889-4323-a26a-130c9982c77a',\n",
       " '86c3d1ee-d688-4126-9926-2eaf92901113',\n",
       " '8e2eb784-d7ab-4ba6-84bb-b06a3cefc7d1',\n",
       " '921a793d-a2c2-45c0-80a2-203e734b95b8',\n",
       " '9e9d1e17-fe51-427f-9888-54d865bc4a69',\n",
       " 'a18a7c1f-fedc-43da-99d2-c184b9c8616a',\n",
       " 'a193115f-06b6-4129-b2d6-d1a4d0394935',\n",
       " 'a47ec006-5703-4cfb-8373-a7ef56e8ab28',\n",
       " 'acdbc5d5-03a5-49f5-a650-a1fed47449a3',\n",
       " 'ad0f4033-b1cd-454d-a658-5c247b4bbea1',\n",
       " 'b1eaa105-76e3-457b-84c2-1a03cbd5975e',\n",
       " 'b72a03db-553e-45cd-9c80-2328fb72d8ce',\n",
       " 'bb97c996-647e-4d0d-9a6e-7a943ddf0d89',\n",
       " 'be18982e-9d45-421f-a710-ff1c508b3527',\n",
       " 'c03bdf4e-3507-4090-a920-c7b18848ea1d',\n",
       " 'c68731dd-653e-4764-9ad5-e5bed6e9d56d',\n",
       " 'c8a7fd0e-0f4c-4427-a66c-57bdf4cdc5d8',\n",
       " 'd267484d-6504-499c-af09-3d2d7e73abc2',\n",
       " 'd3b62678-8ad8-4e6c-a730-2b7f5cabbb64',\n",
       " 'e6e03f84-9767-4f2c-aafb-c8c582a0275c',\n",
       " 'f0a62a90-8fef-4831-93f6-f392e3e78d8f',\n",
       " 'f1945eea-6059-4ccf-a116-e8fd4245e892',\n",
       " 'f7a75a23-9f70-46d9-b705-ff02920a01dd',\n",
       " 'f9676050-fc7e-4998-942f-97f19dae9a1c',\n",
       " 'fdbc020b-187b-4741-a319-7190ad33673d']"
      ]
     },
     "execution_count": 173,
     "metadata": {},
     "output_type": "execute_result"
    }
   ],
   "source": [
    "deviceIDnames = df['deviceId'].unique().tolist()\n",
    "deviceIDnames"
   ]
  },
  {
   "cell_type": "code",
   "execution_count": 174,
   "metadata": {},
   "outputs": [
    {
     "name": "stdout",
     "output_type": "stream",
     "text": [
      "Number of unique DF formed for these deviceIDs:  57\n"
     ]
    }
   ],
   "source": [
    "dataByDeviceId = list()\n",
    "for i in range(0,len(deviceIDnames)):\n",
    "    dataByDeviceId.append(df[df['deviceId']==deviceIDnames[i]].sort_values(['timestamp'])\n",
    "                          .drop_duplicates(subset = ['timestamp'], keep=False))\n",
    "print(\"Number of unique DF formed for these deviceIDs: \",len(dataByDeviceId))"
   ]
  },
  {
   "cell_type": "code",
   "execution_count": 175,
   "metadata": {},
   "outputs": [],
   "source": [
    "for i in range(0,len(dataByDeviceId)):\n",
    "    dataByDeviceId[i] = dataByDeviceId[i].drop(columns=['id','siteId'])"
   ]
  },
  {
   "cell_type": "code",
   "execution_count": 176,
   "metadata": {
    "scrolled": true
   },
   "outputs": [
    {
     "data": {
      "text/html": [
       "<div>\n",
       "<style scoped>\n",
       "    .dataframe tbody tr th:only-of-type {\n",
       "        vertical-align: middle;\n",
       "    }\n",
       "\n",
       "    .dataframe tbody tr th {\n",
       "        vertical-align: top;\n",
       "    }\n",
       "\n",
       "    .dataframe thead th {\n",
       "        text-align: right;\n",
       "    }\n",
       "</style>\n",
       "<table border=\"1\" class=\"dataframe\">\n",
       "  <thead>\n",
       "    <tr style=\"text-align: right;\">\n",
       "      <th></th>\n",
       "      <th>deviceId</th>\n",
       "      <th>timestamp</th>\n",
       "      <th>type</th>\n",
       "    </tr>\n",
       "  </thead>\n",
       "  <tbody>\n",
       "    <tr>\n",
       "      <th>19555</th>\n",
       "      <td>09b5b3d5-9835-40c0-b832-ce3de953ec1c</td>\n",
       "      <td>2018-10-01 02:41:37</td>\n",
       "      <td>OCCUPIED</td>\n",
       "    </tr>\n",
       "    <tr>\n",
       "      <th>19554</th>\n",
       "      <td>09b5b3d5-9835-40c0-b832-ce3de953ec1c</td>\n",
       "      <td>2018-10-01 02:42:42</td>\n",
       "      <td>UNOCCUPIED</td>\n",
       "    </tr>\n",
       "    <tr>\n",
       "      <th>19553</th>\n",
       "      <td>09b5b3d5-9835-40c0-b832-ce3de953ec1c</td>\n",
       "      <td>2018-10-01 02:43:38</td>\n",
       "      <td>OCCUPIED</td>\n",
       "    </tr>\n",
       "    <tr>\n",
       "      <th>19552</th>\n",
       "      <td>09b5b3d5-9835-40c0-b832-ce3de953ec1c</td>\n",
       "      <td>2018-10-01 02:44:50</td>\n",
       "      <td>UNOCCUPIED</td>\n",
       "    </tr>\n",
       "    <tr>\n",
       "      <th>19551</th>\n",
       "      <td>09b5b3d5-9835-40c0-b832-ce3de953ec1c</td>\n",
       "      <td>2018-10-01 02:47:51</td>\n",
       "      <td>OCCUPIED</td>\n",
       "    </tr>\n",
       "    <tr>\n",
       "      <th>19550</th>\n",
       "      <td>09b5b3d5-9835-40c0-b832-ce3de953ec1c</td>\n",
       "      <td>2018-10-01 02:48:56</td>\n",
       "      <td>UNOCCUPIED</td>\n",
       "    </tr>\n",
       "    <tr>\n",
       "      <th>19549</th>\n",
       "      <td>09b5b3d5-9835-40c0-b832-ce3de953ec1c</td>\n",
       "      <td>2018-10-01 02:58:53</td>\n",
       "      <td>OCCUPIED</td>\n",
       "    </tr>\n",
       "    <tr>\n",
       "      <th>19548</th>\n",
       "      <td>09b5b3d5-9835-40c0-b832-ce3de953ec1c</td>\n",
       "      <td>2018-10-01 03:00:47</td>\n",
       "      <td>UNOCCUPIED</td>\n",
       "    </tr>\n",
       "    <tr>\n",
       "      <th>19547</th>\n",
       "      <td>09b5b3d5-9835-40c0-b832-ce3de953ec1c</td>\n",
       "      <td>2018-10-01 03:38:08</td>\n",
       "      <td>OCCUPIED</td>\n",
       "    </tr>\n",
       "    <tr>\n",
       "      <th>19546</th>\n",
       "      <td>09b5b3d5-9835-40c0-b832-ce3de953ec1c</td>\n",
       "      <td>2018-10-01 03:39:13</td>\n",
       "      <td>UNOCCUPIED</td>\n",
       "    </tr>\n",
       "    <tr>\n",
       "      <th>19530</th>\n",
       "      <td>09b5b3d5-9835-40c0-b832-ce3de953ec1c</td>\n",
       "      <td>2018-10-01 04:22:14</td>\n",
       "      <td>UNOCCUPIED</td>\n",
       "    </tr>\n",
       "    <tr>\n",
       "      <th>19529</th>\n",
       "      <td>09b5b3d5-9835-40c0-b832-ce3de953ec1c</td>\n",
       "      <td>2018-10-01 04:23:14</td>\n",
       "      <td>OCCUPIED</td>\n",
       "    </tr>\n",
       "    <tr>\n",
       "      <th>19526</th>\n",
       "      <td>09b5b3d5-9835-40c0-b832-ce3de953ec1c</td>\n",
       "      <td>2018-10-01 04:29:09</td>\n",
       "      <td>OCCUPIED</td>\n",
       "    </tr>\n",
       "    <tr>\n",
       "      <th>19525</th>\n",
       "      <td>09b5b3d5-9835-40c0-b832-ce3de953ec1c</td>\n",
       "      <td>2018-10-01 04:30:12</td>\n",
       "      <td>UNOCCUPIED</td>\n",
       "    </tr>\n",
       "    <tr>\n",
       "      <th>19522</th>\n",
       "      <td>09b5b3d5-9835-40c0-b832-ce3de953ec1c</td>\n",
       "      <td>2018-10-01 04:32:56</td>\n",
       "      <td>UNOCCUPIED</td>\n",
       "    </tr>\n",
       "    <tr>\n",
       "      <th>19521</th>\n",
       "      <td>09b5b3d5-9835-40c0-b832-ce3de953ec1c</td>\n",
       "      <td>2018-10-01 04:33:22</td>\n",
       "      <td>OCCUPIED</td>\n",
       "    </tr>\n",
       "    <tr>\n",
       "      <th>19520</th>\n",
       "      <td>09b5b3d5-9835-40c0-b832-ce3de953ec1c</td>\n",
       "      <td>2018-10-01 04:34:29</td>\n",
       "      <td>UNOCCUPIED</td>\n",
       "    </tr>\n",
       "    <tr>\n",
       "      <th>19519</th>\n",
       "      <td>09b5b3d5-9835-40c0-b832-ce3de953ec1c</td>\n",
       "      <td>2018-10-01 04:51:26</td>\n",
       "      <td>OCCUPIED</td>\n",
       "    </tr>\n",
       "    <tr>\n",
       "      <th>19518</th>\n",
       "      <td>09b5b3d5-9835-40c0-b832-ce3de953ec1c</td>\n",
       "      <td>2018-10-01 04:53:57</td>\n",
       "      <td>UNOCCUPIED</td>\n",
       "    </tr>\n",
       "    <tr>\n",
       "      <th>19511</th>\n",
       "      <td>09b5b3d5-9835-40c0-b832-ce3de953ec1c</td>\n",
       "      <td>2018-10-01 04:57:33</td>\n",
       "      <td>UNOCCUPIED</td>\n",
       "    </tr>\n",
       "    <tr>\n",
       "      <th>19506</th>\n",
       "      <td>09b5b3d5-9835-40c0-b832-ce3de953ec1c</td>\n",
       "      <td>2018-10-01 05:02:38</td>\n",
       "      <td>OCCUPIED</td>\n",
       "    </tr>\n",
       "    <tr>\n",
       "      <th>19505</th>\n",
       "      <td>09b5b3d5-9835-40c0-b832-ce3de953ec1c</td>\n",
       "      <td>2018-10-01 05:03:42</td>\n",
       "      <td>UNOCCUPIED</td>\n",
       "    </tr>\n",
       "    <tr>\n",
       "      <th>19502</th>\n",
       "      <td>09b5b3d5-9835-40c0-b832-ce3de953ec1c</td>\n",
       "      <td>2018-10-01 05:08:13</td>\n",
       "      <td>UNOCCUPIED</td>\n",
       "    </tr>\n",
       "    <tr>\n",
       "      <th>19501</th>\n",
       "      <td>09b5b3d5-9835-40c0-b832-ce3de953ec1c</td>\n",
       "      <td>2018-10-01 05:08:45</td>\n",
       "      <td>OCCUPIED</td>\n",
       "    </tr>\n",
       "    <tr>\n",
       "      <th>19500</th>\n",
       "      <td>09b5b3d5-9835-40c0-b832-ce3de953ec1c</td>\n",
       "      <td>2018-10-01 05:09:50</td>\n",
       "      <td>UNOCCUPIED</td>\n",
       "    </tr>\n",
       "    <tr>\n",
       "      <th>19499</th>\n",
       "      <td>09b5b3d5-9835-40c0-b832-ce3de953ec1c</td>\n",
       "      <td>2018-10-01 05:10:12</td>\n",
       "      <td>OCCUPIED</td>\n",
       "    </tr>\n",
       "    <tr>\n",
       "      <th>19490</th>\n",
       "      <td>09b5b3d5-9835-40c0-b832-ce3de953ec1c</td>\n",
       "      <td>2018-10-01 05:21:47</td>\n",
       "      <td>UNOCCUPIED</td>\n",
       "    </tr>\n",
       "    <tr>\n",
       "      <th>19489</th>\n",
       "      <td>09b5b3d5-9835-40c0-b832-ce3de953ec1c</td>\n",
       "      <td>2018-10-01 05:22:32</td>\n",
       "      <td>OCCUPIED</td>\n",
       "    </tr>\n",
       "    <tr>\n",
       "      <th>19486</th>\n",
       "      <td>09b5b3d5-9835-40c0-b832-ce3de953ec1c</td>\n",
       "      <td>2018-10-01 05:25:05</td>\n",
       "      <td>OCCUPIED</td>\n",
       "    </tr>\n",
       "    <tr>\n",
       "      <th>19485</th>\n",
       "      <td>09b5b3d5-9835-40c0-b832-ce3de953ec1c</td>\n",
       "      <td>2018-10-01 05:26:10</td>\n",
       "      <td>UNOCCUPIED</td>\n",
       "    </tr>\n",
       "    <tr>\n",
       "      <th>...</th>\n",
       "      <td>...</td>\n",
       "      <td>...</td>\n",
       "      <td>...</td>\n",
       "    </tr>\n",
       "    <tr>\n",
       "      <th>11006</th>\n",
       "      <td>09b5b3d5-9835-40c0-b832-ce3de953ec1c</td>\n",
       "      <td>2018-11-23 15:08:10</td>\n",
       "      <td>OCCUPIED</td>\n",
       "    </tr>\n",
       "    <tr>\n",
       "      <th>11005</th>\n",
       "      <td>09b5b3d5-9835-40c0-b832-ce3de953ec1c</td>\n",
       "      <td>2018-11-23 15:09:13</td>\n",
       "      <td>UNOCCUPIED</td>\n",
       "    </tr>\n",
       "    <tr>\n",
       "      <th>11004</th>\n",
       "      <td>09b5b3d5-9835-40c0-b832-ce3de953ec1c</td>\n",
       "      <td>2018-11-23 15:09:41</td>\n",
       "      <td>OCCUPIED</td>\n",
       "    </tr>\n",
       "    <tr>\n",
       "      <th>11003</th>\n",
       "      <td>09b5b3d5-9835-40c0-b832-ce3de953ec1c</td>\n",
       "      <td>2018-11-23 15:13:21</td>\n",
       "      <td>UNOCCUPIED</td>\n",
       "    </tr>\n",
       "    <tr>\n",
       "      <th>11002</th>\n",
       "      <td>09b5b3d5-9835-40c0-b832-ce3de953ec1c</td>\n",
       "      <td>2018-11-23 15:14:30</td>\n",
       "      <td>OCCUPIED</td>\n",
       "    </tr>\n",
       "    <tr>\n",
       "      <th>11001</th>\n",
       "      <td>09b5b3d5-9835-40c0-b832-ce3de953ec1c</td>\n",
       "      <td>2018-11-23 15:15:48</td>\n",
       "      <td>UNOCCUPIED</td>\n",
       "    </tr>\n",
       "    <tr>\n",
       "      <th>11000</th>\n",
       "      <td>09b5b3d5-9835-40c0-b832-ce3de953ec1c</td>\n",
       "      <td>2018-11-23 15:16:23</td>\n",
       "      <td>OCCUPIED</td>\n",
       "    </tr>\n",
       "    <tr>\n",
       "      <th>10999</th>\n",
       "      <td>09b5b3d5-9835-40c0-b832-ce3de953ec1c</td>\n",
       "      <td>2018-11-23 15:18:18</td>\n",
       "      <td>UNOCCUPIED</td>\n",
       "    </tr>\n",
       "    <tr>\n",
       "      <th>10996</th>\n",
       "      <td>09b5b3d5-9835-40c0-b832-ce3de953ec1c</td>\n",
       "      <td>2018-11-23 15:19:50</td>\n",
       "      <td>UNOCCUPIED</td>\n",
       "    </tr>\n",
       "    <tr>\n",
       "      <th>10995</th>\n",
       "      <td>09b5b3d5-9835-40c0-b832-ce3de953ec1c</td>\n",
       "      <td>2018-11-23 15:20:25</td>\n",
       "      <td>OCCUPIED</td>\n",
       "    </tr>\n",
       "    <tr>\n",
       "      <th>10994</th>\n",
       "      <td>09b5b3d5-9835-40c0-b832-ce3de953ec1c</td>\n",
       "      <td>2018-11-23 15:21:28</td>\n",
       "      <td>UNOCCUPIED</td>\n",
       "    </tr>\n",
       "    <tr>\n",
       "      <th>10993</th>\n",
       "      <td>09b5b3d5-9835-40c0-b832-ce3de953ec1c</td>\n",
       "      <td>2018-11-23 15:21:31</td>\n",
       "      <td>OCCUPIED</td>\n",
       "    </tr>\n",
       "    <tr>\n",
       "      <th>10992</th>\n",
       "      <td>09b5b3d5-9835-40c0-b832-ce3de953ec1c</td>\n",
       "      <td>2018-11-23 15:23:57</td>\n",
       "      <td>UNOCCUPIED</td>\n",
       "    </tr>\n",
       "    <tr>\n",
       "      <th>10991</th>\n",
       "      <td>09b5b3d5-9835-40c0-b832-ce3de953ec1c</td>\n",
       "      <td>2018-11-23 15:24:26</td>\n",
       "      <td>OCCUPIED</td>\n",
       "    </tr>\n",
       "    <tr>\n",
       "      <th>10990</th>\n",
       "      <td>09b5b3d5-9835-40c0-b832-ce3de953ec1c</td>\n",
       "      <td>2018-11-23 15:25:52</td>\n",
       "      <td>UNOCCUPIED</td>\n",
       "    </tr>\n",
       "    <tr>\n",
       "      <th>10989</th>\n",
       "      <td>09b5b3d5-9835-40c0-b832-ce3de953ec1c</td>\n",
       "      <td>2018-11-23 15:55:16</td>\n",
       "      <td>OCCUPIED</td>\n",
       "    </tr>\n",
       "    <tr>\n",
       "      <th>10988</th>\n",
       "      <td>09b5b3d5-9835-40c0-b832-ce3de953ec1c</td>\n",
       "      <td>2018-11-23 15:56:33</td>\n",
       "      <td>UNOCCUPIED</td>\n",
       "    </tr>\n",
       "    <tr>\n",
       "      <th>10987</th>\n",
       "      <td>09b5b3d5-9835-40c0-b832-ce3de953ec1c</td>\n",
       "      <td>2018-11-23 16:32:20</td>\n",
       "      <td>OCCUPIED</td>\n",
       "    </tr>\n",
       "    <tr>\n",
       "      <th>10984</th>\n",
       "      <td>09b5b3d5-9835-40c0-b832-ce3de953ec1c</td>\n",
       "      <td>2018-11-23 16:34:26</td>\n",
       "      <td>OCCUPIED</td>\n",
       "    </tr>\n",
       "    <tr>\n",
       "      <th>10981</th>\n",
       "      <td>09b5b3d5-9835-40c0-b832-ce3de953ec1c</td>\n",
       "      <td>2018-11-23 16:52:24</td>\n",
       "      <td>OCCUPIED</td>\n",
       "    </tr>\n",
       "    <tr>\n",
       "      <th>10978</th>\n",
       "      <td>09b5b3d5-9835-40c0-b832-ce3de953ec1c</td>\n",
       "      <td>2018-11-23 17:00:36</td>\n",
       "      <td>OCCUPIED</td>\n",
       "    </tr>\n",
       "    <tr>\n",
       "      <th>10977</th>\n",
       "      <td>09b5b3d5-9835-40c0-b832-ce3de953ec1c</td>\n",
       "      <td>2018-11-23 17:01:39</td>\n",
       "      <td>UNOCCUPIED</td>\n",
       "    </tr>\n",
       "    <tr>\n",
       "      <th>10976</th>\n",
       "      <td>09b5b3d5-9835-40c0-b832-ce3de953ec1c</td>\n",
       "      <td>2018-11-23 17:05:25</td>\n",
       "      <td>OCCUPIED</td>\n",
       "    </tr>\n",
       "    <tr>\n",
       "      <th>10975</th>\n",
       "      <td>09b5b3d5-9835-40c0-b832-ce3de953ec1c</td>\n",
       "      <td>2018-11-23 17:06:29</td>\n",
       "      <td>UNOCCUPIED</td>\n",
       "    </tr>\n",
       "    <tr>\n",
       "      <th>10974</th>\n",
       "      <td>09b5b3d5-9835-40c0-b832-ce3de953ec1c</td>\n",
       "      <td>2018-11-23 17:07:04</td>\n",
       "      <td>OCCUPIED</td>\n",
       "    </tr>\n",
       "    <tr>\n",
       "      <th>10973</th>\n",
       "      <td>09b5b3d5-9835-40c0-b832-ce3de953ec1c</td>\n",
       "      <td>2018-11-23 17:08:08</td>\n",
       "      <td>UNOCCUPIED</td>\n",
       "    </tr>\n",
       "    <tr>\n",
       "      <th>10972</th>\n",
       "      <td>09b5b3d5-9835-40c0-b832-ce3de953ec1c</td>\n",
       "      <td>2018-11-23 17:14:58</td>\n",
       "      <td>OCCUPIED</td>\n",
       "    </tr>\n",
       "    <tr>\n",
       "      <th>10971</th>\n",
       "      <td>09b5b3d5-9835-40c0-b832-ce3de953ec1c</td>\n",
       "      <td>2018-11-23 17:16:00</td>\n",
       "      <td>UNOCCUPIED</td>\n",
       "    </tr>\n",
       "    <tr>\n",
       "      <th>10970</th>\n",
       "      <td>09b5b3d5-9835-40c0-b832-ce3de953ec1c</td>\n",
       "      <td>2018-11-24 06:31:18</td>\n",
       "      <td>OCCUPIED</td>\n",
       "    </tr>\n",
       "    <tr>\n",
       "      <th>10965</th>\n",
       "      <td>09b5b3d5-9835-40c0-b832-ce3de953ec1c</td>\n",
       "      <td>2018-11-24 06:34:59</td>\n",
       "      <td>UNOCCUPIED</td>\n",
       "    </tr>\n",
       "  </tbody>\n",
       "</table>\n",
       "<p>5577 rows × 3 columns</p>\n",
       "</div>"
      ],
      "text/plain": [
       "                                   deviceId            timestamp        type\n",
       "19555  09b5b3d5-9835-40c0-b832-ce3de953ec1c  2018-10-01 02:41:37    OCCUPIED\n",
       "19554  09b5b3d5-9835-40c0-b832-ce3de953ec1c  2018-10-01 02:42:42  UNOCCUPIED\n",
       "19553  09b5b3d5-9835-40c0-b832-ce3de953ec1c  2018-10-01 02:43:38    OCCUPIED\n",
       "19552  09b5b3d5-9835-40c0-b832-ce3de953ec1c  2018-10-01 02:44:50  UNOCCUPIED\n",
       "19551  09b5b3d5-9835-40c0-b832-ce3de953ec1c  2018-10-01 02:47:51    OCCUPIED\n",
       "19550  09b5b3d5-9835-40c0-b832-ce3de953ec1c  2018-10-01 02:48:56  UNOCCUPIED\n",
       "19549  09b5b3d5-9835-40c0-b832-ce3de953ec1c  2018-10-01 02:58:53    OCCUPIED\n",
       "19548  09b5b3d5-9835-40c0-b832-ce3de953ec1c  2018-10-01 03:00:47  UNOCCUPIED\n",
       "19547  09b5b3d5-9835-40c0-b832-ce3de953ec1c  2018-10-01 03:38:08    OCCUPIED\n",
       "19546  09b5b3d5-9835-40c0-b832-ce3de953ec1c  2018-10-01 03:39:13  UNOCCUPIED\n",
       "19530  09b5b3d5-9835-40c0-b832-ce3de953ec1c  2018-10-01 04:22:14  UNOCCUPIED\n",
       "19529  09b5b3d5-9835-40c0-b832-ce3de953ec1c  2018-10-01 04:23:14    OCCUPIED\n",
       "19526  09b5b3d5-9835-40c0-b832-ce3de953ec1c  2018-10-01 04:29:09    OCCUPIED\n",
       "19525  09b5b3d5-9835-40c0-b832-ce3de953ec1c  2018-10-01 04:30:12  UNOCCUPIED\n",
       "19522  09b5b3d5-9835-40c0-b832-ce3de953ec1c  2018-10-01 04:32:56  UNOCCUPIED\n",
       "19521  09b5b3d5-9835-40c0-b832-ce3de953ec1c  2018-10-01 04:33:22    OCCUPIED\n",
       "19520  09b5b3d5-9835-40c0-b832-ce3de953ec1c  2018-10-01 04:34:29  UNOCCUPIED\n",
       "19519  09b5b3d5-9835-40c0-b832-ce3de953ec1c  2018-10-01 04:51:26    OCCUPIED\n",
       "19518  09b5b3d5-9835-40c0-b832-ce3de953ec1c  2018-10-01 04:53:57  UNOCCUPIED\n",
       "19511  09b5b3d5-9835-40c0-b832-ce3de953ec1c  2018-10-01 04:57:33  UNOCCUPIED\n",
       "19506  09b5b3d5-9835-40c0-b832-ce3de953ec1c  2018-10-01 05:02:38    OCCUPIED\n",
       "19505  09b5b3d5-9835-40c0-b832-ce3de953ec1c  2018-10-01 05:03:42  UNOCCUPIED\n",
       "19502  09b5b3d5-9835-40c0-b832-ce3de953ec1c  2018-10-01 05:08:13  UNOCCUPIED\n",
       "19501  09b5b3d5-9835-40c0-b832-ce3de953ec1c  2018-10-01 05:08:45    OCCUPIED\n",
       "19500  09b5b3d5-9835-40c0-b832-ce3de953ec1c  2018-10-01 05:09:50  UNOCCUPIED\n",
       "19499  09b5b3d5-9835-40c0-b832-ce3de953ec1c  2018-10-01 05:10:12    OCCUPIED\n",
       "19490  09b5b3d5-9835-40c0-b832-ce3de953ec1c  2018-10-01 05:21:47  UNOCCUPIED\n",
       "19489  09b5b3d5-9835-40c0-b832-ce3de953ec1c  2018-10-01 05:22:32    OCCUPIED\n",
       "19486  09b5b3d5-9835-40c0-b832-ce3de953ec1c  2018-10-01 05:25:05    OCCUPIED\n",
       "19485  09b5b3d5-9835-40c0-b832-ce3de953ec1c  2018-10-01 05:26:10  UNOCCUPIED\n",
       "...                                     ...                  ...         ...\n",
       "11006  09b5b3d5-9835-40c0-b832-ce3de953ec1c  2018-11-23 15:08:10    OCCUPIED\n",
       "11005  09b5b3d5-9835-40c0-b832-ce3de953ec1c  2018-11-23 15:09:13  UNOCCUPIED\n",
       "11004  09b5b3d5-9835-40c0-b832-ce3de953ec1c  2018-11-23 15:09:41    OCCUPIED\n",
       "11003  09b5b3d5-9835-40c0-b832-ce3de953ec1c  2018-11-23 15:13:21  UNOCCUPIED\n",
       "11002  09b5b3d5-9835-40c0-b832-ce3de953ec1c  2018-11-23 15:14:30    OCCUPIED\n",
       "11001  09b5b3d5-9835-40c0-b832-ce3de953ec1c  2018-11-23 15:15:48  UNOCCUPIED\n",
       "11000  09b5b3d5-9835-40c0-b832-ce3de953ec1c  2018-11-23 15:16:23    OCCUPIED\n",
       "10999  09b5b3d5-9835-40c0-b832-ce3de953ec1c  2018-11-23 15:18:18  UNOCCUPIED\n",
       "10996  09b5b3d5-9835-40c0-b832-ce3de953ec1c  2018-11-23 15:19:50  UNOCCUPIED\n",
       "10995  09b5b3d5-9835-40c0-b832-ce3de953ec1c  2018-11-23 15:20:25    OCCUPIED\n",
       "10994  09b5b3d5-9835-40c0-b832-ce3de953ec1c  2018-11-23 15:21:28  UNOCCUPIED\n",
       "10993  09b5b3d5-9835-40c0-b832-ce3de953ec1c  2018-11-23 15:21:31    OCCUPIED\n",
       "10992  09b5b3d5-9835-40c0-b832-ce3de953ec1c  2018-11-23 15:23:57  UNOCCUPIED\n",
       "10991  09b5b3d5-9835-40c0-b832-ce3de953ec1c  2018-11-23 15:24:26    OCCUPIED\n",
       "10990  09b5b3d5-9835-40c0-b832-ce3de953ec1c  2018-11-23 15:25:52  UNOCCUPIED\n",
       "10989  09b5b3d5-9835-40c0-b832-ce3de953ec1c  2018-11-23 15:55:16    OCCUPIED\n",
       "10988  09b5b3d5-9835-40c0-b832-ce3de953ec1c  2018-11-23 15:56:33  UNOCCUPIED\n",
       "10987  09b5b3d5-9835-40c0-b832-ce3de953ec1c  2018-11-23 16:32:20    OCCUPIED\n",
       "10984  09b5b3d5-9835-40c0-b832-ce3de953ec1c  2018-11-23 16:34:26    OCCUPIED\n",
       "10981  09b5b3d5-9835-40c0-b832-ce3de953ec1c  2018-11-23 16:52:24    OCCUPIED\n",
       "10978  09b5b3d5-9835-40c0-b832-ce3de953ec1c  2018-11-23 17:00:36    OCCUPIED\n",
       "10977  09b5b3d5-9835-40c0-b832-ce3de953ec1c  2018-11-23 17:01:39  UNOCCUPIED\n",
       "10976  09b5b3d5-9835-40c0-b832-ce3de953ec1c  2018-11-23 17:05:25    OCCUPIED\n",
       "10975  09b5b3d5-9835-40c0-b832-ce3de953ec1c  2018-11-23 17:06:29  UNOCCUPIED\n",
       "10974  09b5b3d5-9835-40c0-b832-ce3de953ec1c  2018-11-23 17:07:04    OCCUPIED\n",
       "10973  09b5b3d5-9835-40c0-b832-ce3de953ec1c  2018-11-23 17:08:08  UNOCCUPIED\n",
       "10972  09b5b3d5-9835-40c0-b832-ce3de953ec1c  2018-11-23 17:14:58    OCCUPIED\n",
       "10971  09b5b3d5-9835-40c0-b832-ce3de953ec1c  2018-11-23 17:16:00  UNOCCUPIED\n",
       "10970  09b5b3d5-9835-40c0-b832-ce3de953ec1c  2018-11-24 06:31:18    OCCUPIED\n",
       "10965  09b5b3d5-9835-40c0-b832-ce3de953ec1c  2018-11-24 06:34:59  UNOCCUPIED\n",
       "\n",
       "[5577 rows x 3 columns]"
      ]
     },
     "execution_count": 176,
     "metadata": {},
     "output_type": "execute_result"
    }
   ],
   "source": [
    "dataByDeviceId[3]"
   ]
  },
  {
   "cell_type": "code",
   "execution_count": 257,
   "metadata": {},
   "outputs": [],
   "source": [
    "def transform_data(df):\n",
    "    df['weekday'] = pd.to_datetime(df['timestamp']).dt.weekday\n",
    "    df['hour'] = pd.to_datetime(df['timestamp']).dt.hour\n",
    "    df['minute'] = pd.to_datetime(df['timestamp']).dt.minute\n",
    "    df['type_num'] = 0\n",
    "    df['type_num'][df['type']=='OCCUPIED'] = 1\n",
    "    df['type_num'][df['type']=='UNOCCUPIED'] = 0\n",
    "    df = df.drop(columns=['timestamp','type'])\n",
    "    return df"
   ]
  },
  {
   "cell_type": "code",
   "execution_count": 274,
   "metadata": {
    "scrolled": true
   },
   "outputs": [
    {
     "name": "stderr",
     "output_type": "stream",
     "text": [
      "/home/sultan/anaconda3/lib/python3.7/site-packages/ipykernel_launcher.py:6: SettingWithCopyWarning: \n",
      "A value is trying to be set on a copy of a slice from a DataFrame\n",
      "\n",
      "See the caveats in the documentation: http://pandas.pydata.org/pandas-docs/stable/indexing.html#indexing-view-versus-copy\n",
      "  \n",
      "/home/sultan/anaconda3/lib/python3.7/site-packages/ipykernel_launcher.py:7: SettingWithCopyWarning: \n",
      "A value is trying to be set on a copy of a slice from a DataFrame\n",
      "\n",
      "See the caveats in the documentation: http://pandas.pydata.org/pandas-docs/stable/indexing.html#indexing-view-versus-copy\n",
      "  import sys\n",
      "/home/sultan/anaconda3/lib/python3.7/site-packages/ipykernel_launcher.py:3: FutureWarning: Method .as_matrix will be removed in a future version. Use .values instead.\n",
      "  This is separate from the ipykernel package so we can avoid doing imports until\n"
     ]
    },
    {
     "data": {
      "text/plain": [
       "array([ 0,  1,  2, ...,  0,  6, 34])"
      ]
     },
     "execution_count": 274,
     "metadata": {},
     "output_type": "execute_result"
    }
   ],
   "source": [
    "\n"
   ]
  },
  {
   "cell_type": "code",
   "execution_count": 245,
   "metadata": {},
   "outputs": [],
   "source": [
    "occ = pd.read_csv('occupancy.csv')\n",
    "occ = occ[0:55]\n",
    "move = pd.read_csv('movements.csv')\n",
    "move = move.drop(columns=['timestamp'])"
   ]
  },
  {
   "cell_type": "code",
   "execution_count": 246,
   "metadata": {},
   "outputs": [],
   "source": [
    "occ['weekday']=0\n",
    "occ['weekday'] = pd.to_datetime(occ['timestamp']).dt.weekday\n",
    "occ = occ.drop(columns=['timestamp'])\n",
    "occ = occ.drop(occ.columns[0],axis=1)\n",
    "cluster_data2train = pd.concat([occ,move],axis=1, ignore_index=True)\n",
    "cluster_data2train = cluster_data2train[0:53]"
   ]
  },
  {
   "cell_type": "code",
   "execution_count": 247,
   "metadata": {},
   "outputs": [],
   "source": [
    "from sklearn.cluster import KMeans\n",
    "import pylab as pl"
   ]
  },
  {
   "cell_type": "code",
   "execution_count": 470,
   "metadata": {},
   "outputs": [
    {
     "data": {
      "image/png": "[encoded data removed]",
      "text/plain": [
       "<Figure size 432x288 with 1 Axes>"
      ]
     },
     "metadata": {
      "needs_background": "light"
     },
     "output_type": "display_data"
    }
   ],
   "source": [
    "Nc = range(1, 20)\n",
    "kmeans1 = [KMeans(n_clusters=i) for i in Nc]\n",
    "score = [kmeans1[i].fit(cluster_data2train).score(cluster_data2train) for i in range(len(kmeans1))]\n",
    "pl.plot(Nc,score)\n",
    "\n",
    "pl.xlabel('Number of Clusters')\n",
    "pl.ylabel('Score')\n",
    "pl.title('Elbow Curve (Choosing the best number of clusters)')\n",
    "pl.show()"
   ]
  },
  {
   "cell_type": "code",
   "execution_count": 249,
   "metadata": {},
   "outputs": [],
   "source": [
    "kmeans = KMeans(n_clusters=4)\n",
    "kmeans.fit(cluster_data2train)\n",
    "clusterValues = kmeans.labels_"
   ]
  },
  {
   "cell_type": "markdown",
   "metadata": {},
   "source": [
    "#### Clusterization of day(24h)  values along all occupancy sensors using occupancy measure, occupancy state change parameters\n",
    "> Each day feature vector is being labeled by accroding to cluster number. Knowing particular cluster(or occupancy pattern) it is possible to apply this info in occupancy based control schedule for heating, ventilation and air conditioning.  "
   ]
  },
  {
   "cell_type": "code",
   "execution_count": 473,
   "metadata": {
    "scrolled": true
   },
   "outputs": [
    {
     "data": {
      "text/html": [
       "<div>\n",
       "<style scoped>\n",
       "    .dataframe tbody tr th:only-of-type {\n",
       "        vertical-align: middle;\n",
       "    }\n",
       "\n",
       "    .dataframe tbody tr th {\n",
       "        vertical-align: top;\n",
       "    }\n",
       "\n",
       "    .dataframe thead th {\n",
       "        text-align: right;\n",
       "    }\n",
       "</style>\n",
       "<table border=\"1\" class=\"dataframe\">\n",
       "  <thead>\n",
       "    <tr style=\"text-align: right;\">\n",
       "      <th></th>\n",
       "      <th>0</th>\n",
       "      <th>1</th>\n",
       "      <th>2</th>\n",
       "      <th>3</th>\n",
       "      <th>4</th>\n",
       "      <th>5</th>\n",
       "      <th>6</th>\n",
       "      <th>7</th>\n",
       "      <th>8</th>\n",
       "      <th>9</th>\n",
       "      <th>...</th>\n",
       "      <th>32</th>\n",
       "      <th>33</th>\n",
       "      <th>34</th>\n",
       "      <th>35</th>\n",
       "      <th>36</th>\n",
       "      <th>37</th>\n",
       "      <th>38</th>\n",
       "      <th>39</th>\n",
       "      <th>40</th>\n",
       "      <th>41</th>\n",
       "    </tr>\n",
       "  </thead>\n",
       "  <tbody>\n",
       "    <tr>\n",
       "      <th>0</th>\n",
       "      <td>434</td>\n",
       "      <td>626</td>\n",
       "      <td>537</td>\n",
       "      <td>374</td>\n",
       "      <td>490</td>\n",
       "      <td>225</td>\n",
       "      <td>523</td>\n",
       "      <td>467</td>\n",
       "      <td>494</td>\n",
       "      <td>548</td>\n",
       "      <td>...</td>\n",
       "      <td>833.0</td>\n",
       "      <td>978.0</td>\n",
       "      <td>260.0</td>\n",
       "      <td>918.0</td>\n",
       "      <td>1134.0</td>\n",
       "      <td>1134.0</td>\n",
       "      <td>687.0</td>\n",
       "      <td>1229.0</td>\n",
       "      <td>995.0</td>\n",
       "      <td>1092.0</td>\n",
       "    </tr>\n",
       "    <tr>\n",
       "      <th>1</th>\n",
       "      <td>396</td>\n",
       "      <td>485</td>\n",
       "      <td>462</td>\n",
       "      <td>161</td>\n",
       "      <td>431</td>\n",
       "      <td>294</td>\n",
       "      <td>481</td>\n",
       "      <td>382</td>\n",
       "      <td>519</td>\n",
       "      <td>515</td>\n",
       "      <td>...</td>\n",
       "      <td>528.0</td>\n",
       "      <td>580.0</td>\n",
       "      <td>132.0</td>\n",
       "      <td>598.0</td>\n",
       "      <td>822.0</td>\n",
       "      <td>1005.0</td>\n",
       "      <td>384.0</td>\n",
       "      <td>981.0</td>\n",
       "      <td>926.0</td>\n",
       "      <td>1257.0</td>\n",
       "    </tr>\n",
       "    <tr>\n",
       "      <th>2</th>\n",
       "      <td>412</td>\n",
       "      <td>574</td>\n",
       "      <td>643</td>\n",
       "      <td>375</td>\n",
       "      <td>473</td>\n",
       "      <td>266</td>\n",
       "      <td>522</td>\n",
       "      <td>459</td>\n",
       "      <td>499</td>\n",
       "      <td>568</td>\n",
       "      <td>...</td>\n",
       "      <td>765.0</td>\n",
       "      <td>757.0</td>\n",
       "      <td>223.0</td>\n",
       "      <td>712.0</td>\n",
       "      <td>1061.0</td>\n",
       "      <td>1678.0</td>\n",
       "      <td>429.0</td>\n",
       "      <td>1160.0</td>\n",
       "      <td>798.0</td>\n",
       "      <td>1495.0</td>\n",
       "    </tr>\n",
       "    <tr>\n",
       "      <th>3</th>\n",
       "      <td>373</td>\n",
       "      <td>490</td>\n",
       "      <td>414</td>\n",
       "      <td>272</td>\n",
       "      <td>481</td>\n",
       "      <td>234</td>\n",
       "      <td>472</td>\n",
       "      <td>355</td>\n",
       "      <td>431</td>\n",
       "      <td>280</td>\n",
       "      <td>...</td>\n",
       "      <td>604.0</td>\n",
       "      <td>621.0</td>\n",
       "      <td>96.0</td>\n",
       "      <td>667.0</td>\n",
       "      <td>818.0</td>\n",
       "      <td>788.0</td>\n",
       "      <td>498.0</td>\n",
       "      <td>828.0</td>\n",
       "      <td>833.0</td>\n",
       "      <td>366.0</td>\n",
       "    </tr>\n",
       "    <tr>\n",
       "      <th>4</th>\n",
       "      <td>1061</td>\n",
       "      <td>1209</td>\n",
       "      <td>1076</td>\n",
       "      <td>1024</td>\n",
       "      <td>1109</td>\n",
       "      <td>1009</td>\n",
       "      <td>1118</td>\n",
       "      <td>140</td>\n",
       "      <td>1157</td>\n",
       "      <td>1102</td>\n",
       "      <td>...</td>\n",
       "      <td>191.0</td>\n",
       "      <td>305.0</td>\n",
       "      <td>29.0</td>\n",
       "      <td>342.0</td>\n",
       "      <td>369.0</td>\n",
       "      <td>264.0</td>\n",
       "      <td>334.0</td>\n",
       "      <td>380.0</td>\n",
       "      <td>532.0</td>\n",
       "      <td>312.0</td>\n",
       "    </tr>\n",
       "  </tbody>\n",
       "</table>\n",
       "<p>5 rows × 42 columns</p>\n",
       "</div>"
      ],
      "text/plain": [
       "     0     1     2     3     4     5     6    7     8     9    ...       32  \\\n",
       "0   434   626   537   374   490   225   523  467   494   548   ...    833.0   \n",
       "1   396   485   462   161   431   294   481  382   519   515   ...    528.0   \n",
       "2   412   574   643   375   473   266   522  459   499   568   ...    765.0   \n",
       "3   373   490   414   272   481   234   472  355   431   280   ...    604.0   \n",
       "4  1061  1209  1076  1024  1109  1009  1118  140  1157  1102   ...    191.0   \n",
       "\n",
       "      33     34     35      36      37     38      39     40      41  \n",
       "0  978.0  260.0  918.0  1134.0  1134.0  687.0  1229.0  995.0  1092.0  \n",
       "1  580.0  132.0  598.0   822.0  1005.0  384.0   981.0  926.0  1257.0  \n",
       "2  757.0  223.0  712.0  1061.0  1678.0  429.0  1160.0  798.0  1495.0  \n",
       "3  621.0   96.0  667.0   818.0   788.0  498.0   828.0  833.0   366.0  \n",
       "4  305.0   29.0  342.0   369.0   264.0  334.0   380.0  532.0   312.0  \n",
       "\n",
       "[5 rows x 42 columns]"
      ]
     },
     "execution_count": 473,
     "metadata": {},
     "output_type": "execute_result"
    }
   ],
   "source": [
    "cluster_data2train.head()"
   ]
  },
  {
   "cell_type": "code",
   "execution_count": 306,
   "metadata": {
    "scrolled": true
   },
   "outputs": [],
   "source": [
    "def make_features(deviceIDarray):\n",
    "    deviceIDarray = transform_data(deviceIDarray)#\n",
    "    #print('NA: ',deviceIDarray.isna().sum())\n",
    "    deviceIDarray = deviceIDarray.iloc[:,1:5]\n",
    "    deviceIDarray = deviceIDarray.as_matrix()\n",
    "    #print('NA: ',sum(np.isnan(deviceIDarray)))\n",
    "    return deviceIDarray.flatten()"
   ]
  },
  {
   "cell_type": "code",
   "execution_count": 331,
   "metadata": {
    "scrolled": true
   },
   "outputs": [
    {
     "name": "stderr",
     "output_type": "stream",
     "text": [
      "/home/sultan/anaconda3/lib/python3.7/site-packages/ipykernel_launcher.py:6: SettingWithCopyWarning: \n",
      "A value is trying to be set on a copy of a slice from a DataFrame\n",
      "\n",
      "See the caveats in the documentation: http://pandas.pydata.org/pandas-docs/stable/indexing.html#indexing-view-versus-copy\n",
      "  \n",
      "/home/sultan/anaconda3/lib/python3.7/site-packages/ipykernel_launcher.py:7: SettingWithCopyWarning: \n",
      "A value is trying to be set on a copy of a slice from a DataFrame\n",
      "\n",
      "See the caveats in the documentation: http://pandas.pydata.org/pandas-docs/stable/indexing.html#indexing-view-versus-copy\n",
      "  import sys\n",
      "/home/sultan/anaconda3/lib/python3.7/site-packages/ipykernel_launcher.py:5: FutureWarning: Method .as_matrix will be removed in a future version. Use .values instead.\n",
      "  \"\"\"\n"
     ]
    }
   ],
   "source": [
    "# Clusterization dataset creation\n",
    "dataset = list()\n",
    "for i in range(len(dataByDeviceId)):\n",
    "    dataset.append(make_features(dataByDeviceId[i]))"
   ]
  },
  {
   "cell_type": "code",
   "execution_count": 332,
   "metadata": {},
   "outputs": [
    {
     "name": "stdout",
     "output_type": "stream",
     "text": [
      "(57, 24108)\n",
      "(57, 24108)\n",
      "(14, 24108)\n"
     ]
    }
   ],
   "source": [
    "dataset = pd.DataFrame(dataset)\n",
    "print(dataset.shape)\n",
    "dataset2trainCL2 = dataset.fillna(method='pad')\n",
    "print(dataset2trainCL2.shape)\n",
    "dataset2trainCL2 = dataset2trainCL2.dropna()\n",
    "print(dataset2trainCL2.shape)"
   ]
  },
  {
   "cell_type": "code",
   "execution_count": 333,
   "metadata": {},
   "outputs": [
    {
     "data": {
      "text/plain": [
       "[<matplotlib.lines.Line2D at 0x7f25ecf00048>]"
      ]
     },
     "execution_count": 333,
     "metadata": {},
     "output_type": "execute_result"
    },
    {
     "data": {
      "image/png": "[encoded data removed]",
      "text/plain": [
       "<Figure size 432x288 with 1 Axes>"
      ]
     },
     "metadata": {
      "needs_background": "light"
     },
     "output_type": "display_data"
    }
   ],
   "source": [
    "Nc = range(1, 14)\n",
    "kmeans1 = [KMeans(n_clusters=i) for i in Nc]\n",
    "score = [kmeans1[i].fit(dataset2trainCL2).score(dataset2trainCL2) for i in range(len(kmeans1))]\n",
    "pl.plot(Nc,score)"
   ]
  },
  {
   "cell_type": "code",
   "execution_count": 391,
   "metadata": {},
   "outputs": [],
   "source": [
    "kmeans = KMeans(n_clusters=6)\n",
    "dataset2trainCL2=dataset2trainCL2.sample(frac=1)\n",
    "kmeans.fit(dataset2trainCL2)\n",
    "clusterValues = kmeans.labels_"
   ]
  },
  {
   "cell_type": "code",
   "execution_count": 392,
   "metadata": {},
   "outputs": [
    {
     "data": {
      "text/plain": [
       "array([1, 3, 2, 1, 2, 5, 1, 1, 0, 2, 1, 4, 0, 4], dtype=int32)"
      ]
     },
     "execution_count": 392,
     "metadata": {},
     "output_type": "execute_result"
    }
   ],
   "source": [
    "clusterValues"
   ]
  },
  {
   "cell_type": "code",
   "execution_count": 480,
   "metadata": {},
   "outputs": [],
   "source": [
    "def draw_rectangles(room_vect):\n",
    "    color_dict = {\n",
    "        0:'black',\n",
    "        1:'green',\n",
    "        2:'red',\n",
    "        3:'blue',\n",
    "        4:'magenta',\n",
    "        5:'grey',\n",
    "        6:'pink'\n",
    "    }\n",
    "    import matplotlib.pyplot as plt\n",
    "    import matplotlib.patches as patches\n",
    "    %matplotlib inline\n",
    "    nColors = max(room_vect)\n",
    "    cmap = plt.cm.get_cmap('hsv', nColors)(nColors)\n",
    "    a=[0,0]\n",
    "    b=[0,5]\n",
    "    c=[5,0]\n",
    "    d=[5,5]\n",
    "    width = c[0] - a[0]\n",
    "    height = d[1] - a[1]\n",
    "    limsX = (0, 90)\n",
    "    limsY = (0, 20)\n",
    "    fig1 = plt.figure()\n",
    "    ax1 = fig1.add_subplot(111, aspect='equal')\n",
    "    for i in range(len(room_vect)):\n",
    "        ax1.add_patch(\n",
    "        patches.Rectangle((0+i*6, 10), width, height,color=color_dict[room_vect[i]]))\n",
    "    rearranged_room_vect = sorted(room_vect.tolist())\n",
    "    for i in range(len(rearranged_room_vect)):\n",
    "        ax1.add_patch(\n",
    "        patches.Rectangle((0+i*6, 0), width, height,color=color_dict[rearranged_room_vect[i]]))\n",
    "    plt.ylim(limsY)\n",
    "    plt.xlim(limsX)\n",
    "    plt.xlabel('Rooms with various occupancy patterns')\n",
    "    plt.ylabel('Rooms before and after rearrangment')\n",
    "    plt.show()"
   ]
  },
  {
   "cell_type": "markdown",
   "metadata": {},
   "source": [
    "#### We've gathered dataset of the sensors bordering with Meeting and Discussion rooms and having big open area with 9 desks(which will be treated as private office spaces with its own occupancy patterns)\n",
    "> Since, we assume each office (essentially occupied by he same people assigned to the space) has some occupancy profile. We've developed clusterization of these occupancy profiles room by room. "
   ]
  },
  {
   "cell_type": "code",
   "execution_count": 481,
   "metadata": {},
   "outputs": [
    {
     "data": {
      "image/png": "[encoded data removed]",
      "text/plain": [
       "<Figure size 432x288 with 1 Axes>"
      ]
     },
     "metadata": {
      "needs_background": "light"
     },
     "output_type": "display_data"
    }
   ],
   "source": [
    "draw_rectangles(clusterValues)"
   ]
  },
  {
   "cell_type": "markdown",
   "metadata": {},
   "source": [
    "#### Explanation\n",
    "> Figures depict office spaces(colored squares), where color means  a particular occupancy pattern. The idea is to rearrange people is such a way so that they have neighbours with similar occupancy patterns(as depicted in 2nd plot). Such rearrangement potentially may give lots of benefits for other building systems: thermal energy, electrcity loads matching, allowing more uniform load distributions across the building\n"
   ]
  },
  {
   "cell_type": "code",
   "execution_count": null,
   "metadata": {},
   "outputs": [],
   "source": []
  },
  {
   "cell_type": "code",
   "execution_count": null,
   "metadata": {},
   "outputs": [],
   "source": []
  },
  {
   "cell_type": "code",
   "execution_count": null,
   "metadata": {},
   "outputs": [],
   "source": []
  },
  {
   "cell_type": "code",
   "execution_count": 433,
   "metadata": {},
   "outputs": [
    {
     "data": {
      "text/html": [
       "<div>\n",
       "<style scoped>\n",
       "    .dataframe tbody tr th:only-of-type {\n",
       "        vertical-align: middle;\n",
       "    }\n",
       "\n",
       "    .dataframe tbody tr th {\n",
       "        vertical-align: top;\n",
       "    }\n",
       "\n",
       "    .dataframe thead th {\n",
       "        text-align: right;\n",
       "    }\n",
       "</style>\n",
       "<table border=\"1\" class=\"dataframe\">\n",
       "  <thead>\n",
       "    <tr style=\"text-align: right;\">\n",
       "      <th></th>\n",
       "      <th>Unnamed: 0</th>\n",
       "      <th>timestamp</th>\n",
       "      <th>humidity</th>\n",
       "      <th>co2</th>\n",
       "      <th>temperature</th>\n",
       "      <th>sensor_r</th>\n",
       "      <th>sensor_l</th>\n",
       "      <th>thermal</th>\n",
       "      <th>day_of_week</th>\n",
       "      <th>day</th>\n",
       "      <th>month</th>\n",
       "    </tr>\n",
       "  </thead>\n",
       "  <tbody>\n",
       "    <tr>\n",
       "      <th>0</th>\n",
       "      <td>0</td>\n",
       "      <td>2018-10-13T00:00:00.000000Z</td>\n",
       "      <td>46.1876</td>\n",
       "      <td>422.412208</td>\n",
       "      <td>20.470956</td>\n",
       "      <td>0</td>\n",
       "      <td>0</td>\n",
       "      <td>0.0</td>\n",
       "      <td>5</td>\n",
       "      <td>13</td>\n",
       "      <td>10</td>\n",
       "    </tr>\n",
       "    <tr>\n",
       "      <th>1</th>\n",
       "      <td>1</td>\n",
       "      <td>2018-10-13T00:15:00.000000Z</td>\n",
       "      <td>46.1826</td>\n",
       "      <td>422.412542</td>\n",
       "      <td>20.471911</td>\n",
       "      <td>0</td>\n",
       "      <td>0</td>\n",
       "      <td>50.3</td>\n",
       "      <td>5</td>\n",
       "      <td>13</td>\n",
       "      <td>10</td>\n",
       "    </tr>\n",
       "    <tr>\n",
       "      <th>2</th>\n",
       "      <td>2</td>\n",
       "      <td>2018-10-13T00:30:00.000000Z</td>\n",
       "      <td>46.1776</td>\n",
       "      <td>422.412875</td>\n",
       "      <td>20.472867</td>\n",
       "      <td>0</td>\n",
       "      <td>0</td>\n",
       "      <td>1.8</td>\n",
       "      <td>5</td>\n",
       "      <td>13</td>\n",
       "      <td>10</td>\n",
       "    </tr>\n",
       "    <tr>\n",
       "      <th>3</th>\n",
       "      <td>3</td>\n",
       "      <td>2018-10-13T00:45:00.000000Z</td>\n",
       "      <td>46.1726</td>\n",
       "      <td>422.413208</td>\n",
       "      <td>20.473822</td>\n",
       "      <td>0</td>\n",
       "      <td>0</td>\n",
       "      <td>6.7</td>\n",
       "      <td>5</td>\n",
       "      <td>13</td>\n",
       "      <td>10</td>\n",
       "    </tr>\n",
       "    <tr>\n",
       "      <th>4</th>\n",
       "      <td>4</td>\n",
       "      <td>2018-10-13T01:00:00.000000Z</td>\n",
       "      <td>46.1670</td>\n",
       "      <td>422.413542</td>\n",
       "      <td>20.474778</td>\n",
       "      <td>0</td>\n",
       "      <td>0</td>\n",
       "      <td>70.0</td>\n",
       "      <td>5</td>\n",
       "      <td>13</td>\n",
       "      <td>10</td>\n",
       "    </tr>\n",
       "  </tbody>\n",
       "</table>\n",
       "</div>"
      ],
      "text/plain": [
       "   Unnamed: 0                    timestamp  humidity         co2  temperature  \\\n",
       "0           0  2018-10-13T00:00:00.000000Z   46.1876  422.412208    20.470956   \n",
       "1           1  2018-10-13T00:15:00.000000Z   46.1826  422.412542    20.471911   \n",
       "2           2  2018-10-13T00:30:00.000000Z   46.1776  422.412875    20.472867   \n",
       "3           3  2018-10-13T00:45:00.000000Z   46.1726  422.413208    20.473822   \n",
       "4           4  2018-10-13T01:00:00.000000Z   46.1670  422.413542    20.474778   \n",
       "\n",
       "   sensor_r  sensor_l  thermal  day_of_week  day  month  \n",
       "0         0         0      0.0            5   13     10  \n",
       "1         0         0     50.3            5   13     10  \n",
       "2         0         0      1.8            5   13     10  \n",
       "3         0         0      6.7            5   13     10  \n",
       "4         0         0     70.0            5   13     10  "
      ]
     },
     "execution_count": 433,
     "metadata": {},
     "output_type": "execute_result"
    }
   ],
   "source": [
    "# Training Room Prediction \n",
    "train_room = pd.read_csv('final.csv')\n",
    "train_room.head()\n"
   ]
  },
  {
   "cell_type": "code",
   "execution_count": 440,
   "metadata": {},
   "outputs": [],
   "source": [
    "train_room['occupancy_measure'] = train_room['sensor_r']+train_room['sensor_l']\n",
    "train_room['hour'] = pd.to_datetime(train_room['timestamp']).dt.hour\n",
    "train_room['minute'] = pd.to_datetime(train_room['timestamp']).dt.minute\n",
    "X_train = train_room[['day','day_of_week','hour','minute','co2','temperature','humidity']]\n",
    "y_train = train_room['sensor_r']+train_room['sensor_l']"
   ]
  },
  {
   "cell_type": "code",
   "execution_count": 438,
   "metadata": {},
   "outputs": [],
   "source": []
  },
  {
   "cell_type": "code",
   "execution_count": 449,
   "metadata": {},
   "outputs": [],
   "source": [
    "from sklearn.svm import SVR\n",
    "from sklearn.metrics import mean_squared_error, r2_score\n",
    "from sklearn.externals import joblib\n",
    "svr_rbf = SVR(kernel='rbf', C=1e3, gamma=0.1)\n",
    "model = svr_rbf.fit(X_train, y_train)\n"
   ]
  },
  {
   "cell_type": "code",
   "execution_count": 444,
   "metadata": {},
   "outputs": [],
   "source": [
    "occ_mes_predict_y=model.predict(X_train)"
   ]
  },
  {
   "cell_type": "code",
   "execution_count": 448,
   "metadata": {},
   "outputs": [
    {
     "name": "stdout",
     "output_type": "stream",
     "text": [
      "Errors on training interval\n",
      "MSE:  0.009661662136633829\n",
      "r2 score:  0.999776041089356\n"
     ]
    }
   ],
   "source": [
    "print(\"Errors on training interval\")\n",
    "print(\"MSE: \",mean_squared_error(y_train,occ_mes_predict_y))\n",
    "print(\"r2 score: \",r2_score(y_train,occ_mes_predict_y))"
   ]
  },
  {
   "cell_type": "code",
   "execution_count": 450,
   "metadata": {},
   "outputs": [
    {
     "data": {
      "text/plain": [
       "['model_occ_measure_trainingroom.pkl']"
      ]
     },
     "execution_count": 450,
     "metadata": {},
     "output_type": "execute_result"
    }
   ],
   "source": [
    "joblib.dump(model, 'model_occ_measure_trainingroom.pkl')"
   ]
  },
  {
   "cell_type": "code",
   "execution_count": 465,
   "metadata": {
    "scrolled": true
   },
   "outputs": [
    {
     "data": {
      "text/plain": [
       "array([0.09987211])"
      ]
     },
     "execution_count": 465,
     "metadata": {},
     "output_type": "execute_result"
    }
   ],
   "source": [
    "model.predict(pd.DataFrame([[13,5,0,0,422.412208,20.470956,46.1876]],\n",
    "                           columns=['day','day_of_week','hour','minute','co2','temperature','humidity']))"
   ]
  },
  {
   "cell_type": "code",
   "execution_count": 469,
   "metadata": {},
   "outputs": [
    {
     "data": {
      "text/plain": [
       "array([0.09987211])"
      ]
     },
     "execution_count": 469,
     "metadata": {},
     "output_type": "execute_result"
    }
   ],
   "source": [
    "model_occ_measure_trainingroom = joblib.load('model_occ_measure_trainingroom.pkl')\n",
    "model_occ_measure_trainingroom.predict(pd.DataFrame([[13,5,0,0,422.412208,20.470956,46.1876]],\n",
    "                           columns=['day','day_of_week','hour','minute','co2','temperature','humidity']))"
   ]
  },
  {
   "cell_type": "code",
   "execution_count": 464,
   "metadata": {},
   "outputs": [
    {
     "data": {
      "text/html": [
       "<div>\n",
       "<style scoped>\n",
       "    .dataframe tbody tr th:only-of-type {\n",
       "        vertical-align: middle;\n",
       "    }\n",
       "\n",
       "    .dataframe tbody tr th {\n",
       "        vertical-align: top;\n",
       "    }\n",
       "\n",
       "    .dataframe thead th {\n",
       "        text-align: right;\n",
       "    }\n",
       "</style>\n",
       "<table border=\"1\" class=\"dataframe\">\n",
       "  <thead>\n",
       "    <tr style=\"text-align: right;\">\n",
       "      <th></th>\n",
       "      <th>day</th>\n",
       "      <th>day_of_week</th>\n",
       "      <th>hour</th>\n",
       "      <th>minute</th>\n",
       "      <th>co2</th>\n",
       "      <th>temperature</th>\n",
       "      <th>humidity</th>\n",
       "    </tr>\n",
       "  </thead>\n",
       "  <tbody>\n",
       "    <tr>\n",
       "      <th>0</th>\n",
       "      <td>13</td>\n",
       "      <td>5</td>\n",
       "      <td>0</td>\n",
       "      <td>0</td>\n",
       "      <td>422.412208</td>\n",
       "      <td>20.470956</td>\n",
       "      <td>46.1876</td>\n",
       "    </tr>\n",
       "  </tbody>\n",
       "</table>\n",
       "</div>"
      ],
      "text/plain": [
       "   day  day_of_week  hour  minute         co2  temperature  humidity\n",
       "0   13            5     0       0  422.412208    20.470956   46.1876"
      ]
     },
     "execution_count": 464,
     "metadata": {},
     "output_type": "execute_result"
    }
   ],
   "source": [
    "pd.DataFrame([[13,5,0,0,422.412208,20.470956,46.1876]],\n",
    "                           columns=['day','day_of_week','hour','minute','co2','temperature','humidity'])"
   ]
  },
  {
   "cell_type": "code",
   "execution_count": null,
   "metadata": {},
   "outputs": [],
   "source": []
  }
 ],
 "metadata": {
  "kernelspec": {
   "display_name": "Python 3",
   "language": "python",
   "name": "python3"
  },
  "language_info": {
   "codemirror_mode": {
    "name": "ipython",
    "version": 3
   },
   "file_extension": ".py",
   "mimetype": "text/x-python",
   "name": "python",
   "nbconvert_exporter": "python",
   "pygments_lexer": "ipython3",
   "version": "3.7.0"
  }
 },
 "nbformat": 4,
 "nbformat_minor": 2
}
